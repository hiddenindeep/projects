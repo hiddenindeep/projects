{
 "cells": [
  {
   "cell_type": "code",
   "execution_count": 3,
   "id": "e7423ad9-fa2d-48fa-8f76-982505f06202",
   "metadata": {},
   "outputs": [
    {
     "name": "stdout",
     "output_type": "stream",
     "text": [
      "tensor([[0.9600, 0.9820]])\n"
     ]
    }
   ],
   "source": [
    "import torch\n",
    "from transformers import AutoModel\n",
    "\n",
    "MODEL_NAME = \"./model/BGE-VL-base/\" # or \"BAAI/BGE-VL-large\"\n",
    "\n",
    "model = AutoModel.from_pretrained(MODEL_NAME, trust_remote_code=True) # You must set trust_remote_code=True\n",
    "model.set_processor(MODEL_NAME)\n",
    "model.eval()\n",
    "\n",
    "with torch.no_grad():\n",
    "    query = model.encode(\n",
    "        images = \"./data/pingpong.jpeg\", \n",
    "        text = \"有人在打乒乓球\"\n",
    "    )\n",
    "\n",
    "    candidates = model.encode(\n",
    "        text = [\"一群人在踢球\", \"有人在打乒乓球。\"]\n",
    "    )\n",
    "    \n",
    "    scores = query @ candidates.T\n",
    "print(scores)"
   ]
  },
  {
   "cell_type": "code",
   "execution_count": 2,
   "id": "6e7d3a1d-79c5-45e6-9d6a-2f5430e735ba",
   "metadata": {},
   "outputs": [
    {
     "data": {
      "text/plain": [
       "torch.Size([1, 512])"
      ]
     },
     "execution_count": 2,
     "metadata": {},
     "output_type": "execute_result"
    }
   ],
   "source": [
    "query.shape"
   ]
  },
  {
   "cell_type": "code",
   "execution_count": null,
   "id": "de866983-0d74-4e25-9cec-9b798a80fbe6",
   "metadata": {},
   "outputs": [],
   "source": []
  }
 ],
 "metadata": {
  "kernelspec": {
   "display_name": "Python 3 (ipykernel)",
   "language": "python",
   "name": "python3"
  },
  "language_info": {
   "codemirror_mode": {
    "name": "ipython",
    "version": 3
   },
   "file_extension": ".py",
   "mimetype": "text/x-python",
   "name": "python",
   "nbconvert_exporter": "python",
   "pygments_lexer": "ipython3",
   "version": "3.12.3"
  }
 },
 "nbformat": 4,
 "nbformat_minor": 5
}
